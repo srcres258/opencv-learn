{
 "cells": [
  {
   "cell_type": "code",
   "id": "initial_id",
   "metadata": {
    "collapsed": true,
    "ExecuteTime": {
     "end_time": "2024-06-12T09:49:22.010967Z",
     "start_time": "2024-06-12T09:49:21.871118Z"
    }
   },
   "source": [
    "import cv2\n",
    "cv2.__version__"
   ],
   "outputs": [
    {
     "data": {
      "text/plain": [
       "'4.10.0'"
      ]
     },
     "execution_count": 1,
     "metadata": {},
     "output_type": "execute_result"
    }
   ],
   "execution_count": 1
  },
  {
   "metadata": {
    "ExecuteTime": {
     "end_time": "2024-06-12T09:50:51.236606Z",
     "start_time": "2024-06-12T09:50:51.230396Z"
    }
   },
   "cell_type": "code",
   "source": [
    "test = \"123456\"\n",
    "print(test)"
   ],
   "id": "b7f28349c3f9f905",
   "outputs": [
    {
     "name": "stdout",
     "output_type": "stream",
     "text": [
      "123456\n"
     ]
    }
   ],
   "execution_count": 1
  },
  {
   "metadata": {},
   "cell_type": "code",
   "outputs": [],
   "execution_count": null,
   "source": "",
   "id": "b72b44c93a681ffe"
  }
 ],
 "metadata": {
  "kernelspec": {
   "display_name": "opencv-learn",
   "language": "python",
   "name": "opencv-learn"
  },
  "language_info": {
   "codemirror_mode": {
    "name": "ipython",
    "version": 2
   },
   "file_extension": ".py",
   "mimetype": "text/x-python",
   "name": "python",
   "nbconvert_exporter": "python",
   "pygments_lexer": "ipython2",
   "version": "2.7.6"
  }
 },
 "nbformat": 4,
 "nbformat_minor": 5
}
