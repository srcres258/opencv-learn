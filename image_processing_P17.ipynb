{
 "cells": [
  {
   "metadata": {},
   "cell_type": "code",
   "source": [
    "import cv2\n",
    "import matplotlib.pyplot as plt\n",
    "import numpy as np\n",
    "import os\n",
    "%matplotlib inline"
   ],
   "id": "ea6fe7611610c26b",
   "outputs": [],
   "execution_count": null
  },
  {
   "metadata": {},
   "cell_type": "markdown",
   "source": "# Image gradient - Sobel operator",
   "id": "5b2a1c00076e6df5"
  },
  {
   "metadata": {},
   "cell_type": "code",
   "source": [
    "img = cv2.imread('pie.png', cv2.IMREAD_GRAYSCALE)\n",
    "cv2.imshow('img', img)\n",
    "cv2.waitKey(0)\n",
    "cv2.destroyAllWindows()"
   ],
   "id": "8194020c4d14d003",
   "outputs": [],
   "execution_count": null
  },
  {
   "metadata": {},
   "cell_type": "markdown",
   "source": [
    "dst = cv2.Sobel(src, ddepth, dx, dy, ksize)\n",
    "\n",
    "- ddepth: depth of image\n",
    "- dx, dy: horizontal and vertical direction\n",
    "- ksize: size of Sobel operator"
   ],
   "id": "dc99b876285d4d6e"
  },
  {
   "metadata": {},
   "cell_type": "code",
   "source": [
    "def cv_show(img, name):\n",
    "    cv2.imshow(name, img)\n",
    "    cv2.waitKey(0)\n",
    "    cv2.destroyAllWindows()"
   ],
   "id": "4ab3113025d36353",
   "outputs": [],
   "execution_count": null
  },
  {
   "metadata": {},
   "cell_type": "code",
   "source": [
    "sobelx = cv2.Sobel(img, cv2.CV_64F, 1, 0, ksize=3)\n",
    "\n",
    "cv_show(sobelx, 'sobelx')"
   ],
   "id": "c78072f8551bf63",
   "outputs": [],
   "execution_count": null
  },
  {
   "metadata": {},
   "cell_type": "markdown",
   "source": "Because it's positive from white to black, it's negative from black to white. All negative values will be intercepted to 0, so absolute value should be obtained.",
   "id": "71d97d04d1348106"
  },
  {
   "metadata": {},
   "cell_type": "code",
   "source": [
    "sobelx = cv2.Sobel(img, cv2.CV_64F, 1, 0, ksize=3)\n",
    "sobelx = cv2.convertScaleAbs(sobelx)\n",
    "cv_show(sobelx, 'sobelx')"
   ],
   "id": "901ca650e0398584",
   "outputs": [],
   "execution_count": null
  },
  {
   "metadata": {},
   "cell_type": "code",
   "source": [
    "sobely = cv2.Sobel(img, cv2.CV_64F, 0, 1, ksize=3)\n",
    "sobely = cv2.convertScaleAbs(sobely)\n",
    "cv_show(sobely, 'sobely')"
   ],
   "id": "42fea4398c3d71ba",
   "outputs": [],
   "execution_count": null
  },
  {
   "metadata": {},
   "cell_type": "markdown",
   "source": "Calculate x and y separately, then sum up.",
   "id": "4c950f3ea4fba8a2"
  },
  {
   "metadata": {},
   "cell_type": "code",
   "source": [
    "sobelxy = cv2.addWeighted(sobelx, 0.5, sobely, 0.5, 0)\n",
    "cv_show(sobelxy, 'sobelxy')"
   ],
   "id": "d714fe6d4df3241c",
   "outputs": [],
   "execution_count": null
  },
  {
   "metadata": {},
   "cell_type": "markdown",
   "source": "Directly calculating is not recommended.",
   "id": "c50d22def1210d22"
  },
  {
   "metadata": {},
   "cell_type": "code",
   "source": [
    "sobelxy = cv2.Sobel(img, cv2.CV_64F, 1, 1, ksize=3)\n",
    "sobelxy = cv2.convertScaleAbs(sobelxy)\n",
    "cv_show(sobelxy, 'sobelxy')"
   ],
   "id": "76fc199484e90d7",
   "outputs": [],
   "execution_count": null
  },
  {
   "metadata": {},
   "cell_type": "code",
   "source": [
    "img = cv2.imread('test3.jpg', cv2.IMREAD_GRAYSCALE)\n",
    "cv_show(img, 'img')"
   ],
   "id": "d8b5cb7e2bc77118",
   "outputs": [],
   "execution_count": null
  },
  {
   "metadata": {},
   "cell_type": "code",
   "source": [
    "img = cv2.imread('test3.jpg', cv2.IMREAD_GRAYSCALE)\n",
    "sobelx = cv2.Sobel(img, cv2.CV_64F, 1, 0, ksize=3)\n",
    "sobelx = cv2.convertScaleAbs(sobelx)\n",
    "sobely = cv2.Sobel(img, cv2.CV_64F, 0, 1, ksize=3)\n",
    "sobely = cv2.convertScaleAbs(sobely)\n",
    "sobelxy = cv2.addWeighted(sobelx, 0.5, sobely, 0.5, 0)\n",
    "cv_show(sobelxy, 'sobelxy')"
   ],
   "id": "b86aa0cbf31ffc7a",
   "outputs": [],
   "execution_count": null
  },
  {
   "metadata": {},
   "cell_type": "code",
   "source": [
    "img = cv2.imread('test3.jpg', cv2.IMREAD_GRAYSCALE)\n",
    "\n",
    "sobelxy = cv2.Sobel(img, cv2.CV_64F, 1, 1, ksize=3)\n",
    "sobelxy = cv2.convertScaleAbs(sobelxy)\n",
    "cv_show(sobelxy, 'sobelxy')"
   ],
   "id": "d756451ecd88e903",
   "outputs": [],
   "execution_count": null
  },
  {
   "metadata": {},
   "cell_type": "markdown",
   "source": "# Image gradient - Scharr operator",
   "id": "14e4fe7df3e34c89"
  },
  {
   "metadata": {},
   "cell_type": "markdown",
   "source": "# Image gradient - Laplacian operator",
   "id": "3bde1f437e2d2c7c"
  },
  {
   "metadata": {},
   "cell_type": "code",
   "source": [
    "# differences between various operators\n",
    "img = cv2.imread('test3.jpg', cv2.IMREAD_GRAYSCALE)\n",
    "sobelx = cv2.Sobel(img, cv2.CV_64F, 1, 0, ksize=3)\n",
    "sobely = cv2.Sobel(img, cv2.CV_64F, 0, 1, ksize=3)\n",
    "sobelx = cv2.convertScaleAbs(sobelx)\n",
    "sobely = cv2.convertScaleAbs(sobely)\n",
    "sobelxy = cv2.addWeighted(sobelx, 0.5, sobely, 0.5, 0)\n",
    "\n",
    "scharrx = cv2.Scharr(img, cv2.CV_64F, 1, 0)\n",
    "scharry = cv2.Scharr(img, cv2.CV_64F, 0, 1)\n",
    "scharrx = cv2.convertScaleAbs(scharrx)\n",
    "scharry = cv2.convertScaleAbs(scharry)\n",
    "scharrxy = cv2.addWeighted(scharrx, 0.5, scharry, 0.5, 0)\n",
    "\n",
    "laplacian = cv2.Laplacian(img, cv2.CV_64F)\n",
    "laplacian = cv2.convertScaleAbs(laplacian)\n",
    "\n",
    "res = np.hstack((sobelxy, scharrxy, laplacian))\n",
    "cv_show(res, 'res')"
   ],
   "id": "63c027a33c3f2e31",
   "outputs": [],
   "execution_count": null
  },
  {
   "metadata": {},
   "cell_type": "markdown",
   "source": [
    "# Canny border detecting\n",
    "\n",
    "1) Use Gauss filter to smooth the image and filter out the noise.\n",
    "2) Calculate gradient strength and direction of each pixel within the image.\n",
    "3) Use non-maximum suppression, in order to eliminate spurious responses brought by the border detection.\n",
    "4) Use double-threshold detection to ensure real and potential borders.\n",
    "5) Finish up the border detection by restricting isolated weak borders."
   ],
   "id": "fd723d4801d332c0"
  },
  {
   "metadata": {},
   "cell_type": "markdown",
   "source": [
    "## 1. Gauss filter\n",
    "\n",
    "## 2. Gradient and direction\n",
    "\n",
    "## 3. Non-maximum suppression\n",
    "\n",
    "## 4. Double-threshold detection"
   ],
   "id": "e183459ff4dd21a5"
  },
  {
   "metadata": {},
   "cell_type": "code",
   "source": [
    "img = cv2.imread('test1.jpg', cv2.IMREAD_GRAYSCALE)\n",
    "\n",
    "v1 = cv2.Canny(img, 80, 150)\n",
    "v2 = cv2.Canny(img, 50, 100)\n",
    "\n",
    "res = np.hstack((img, v1, v2))\n",
    "cv_show(res, 'res')"
   ],
   "id": "f01fc07215f4d336",
   "outputs": [],
   "execution_count": null
  },
  {
   "metadata": {},
   "cell_type": "code",
   "source": [
    "img = cv2.imread('test3.jpg', cv2.IMREAD_GRAYSCALE)\n",
    "\n",
    "v1 = cv2.Canny(img, 120, 250)\n",
    "v2 = cv2.Canny(img, 50, 100)\n",
    "\n",
    "res = np.hstack((img, v1, v2))\n",
    "cv_show(res, 'res')"
   ],
   "id": "4acdb6eb0e2b9bfb",
   "outputs": [],
   "execution_count": null
  },
  {
   "metadata": {},
   "cell_type": "markdown",
   "source": [
    "# Image pyramid\n",
    "\n",
    "- Gauss pyramid\n",
    "- Laplace pyramid\n",
    "\n",
    "## Gauss pyramid: down-oriented sampling method (narrowing)\n",
    "\n",
    "## Gauss pyramid: up-oriented sampling method (enlarging)"
   ],
   "id": "1f0c53b016156004"
  }
 ],
 "metadata": {
  "kernelspec": {
   "display_name": "Python 3",
   "language": "python",
   "name": "python3"
  },
  "language_info": {
   "codemirror_mode": {
    "name": "ipython",
    "version": 2
   },
   "file_extension": ".py",
   "mimetype": "text/x-python",
   "name": "python",
   "nbconvert_exporter": "python",
   "pygments_lexer": "ipython2",
   "version": "2.7.6"
  }
 },
 "nbformat": 4,
 "nbformat_minor": 5
}
