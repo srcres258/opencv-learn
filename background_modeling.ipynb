{
 "cells": [
  {
   "cell_type": "code",
   "id": "initial_id",
   "metadata": {
    "collapsed": true
   },
   "source": [
    "import cv2\n",
    "import matplotlib.pyplot as plt\n",
    "import numpy as np\n",
    "import os\n",
    "%matplotlib inline"
   ],
   "outputs": [],
   "execution_count": null
  },
  {
   "metadata": {},
   "cell_type": "markdown",
   "source": [
    "# Background modeling\n",
    "\n",
    "## Frame difference method\n",
    "\n",
    "## Mixed Gauss model\n",
    "\n",
    "### Learning method of mixed Gauss model\n",
    "\n",
    "### Testing method of mixed Gauss model"
   ],
   "id": "67f38a9cfbbedf01"
  },
  {
   "metadata": {},
   "cell_type": "code",
   "source": [
    "# Test video\n",
    "cap = cv2.VideoCapture('test2.mp4')\n",
    "# Morphological methods are needed\n",
    "kernel = cv2.getStructuringElement(cv2.MORPH_ELLIPSE, (3, 3))\n",
    "# Create mixed Gauss model for background modeling\n",
    "fgbg = cv2.createBackgroundSubtractorMOG2()\n",
    "\n",
    "while True:\n",
    "    ret, frame = cap.read()\n",
    "    fgmask = fgbg.apply(frame)\n",
    "    # Use open calculation of morphological methods to rid noise points\n",
    "    fgmask = cv2.morphologyEx(fgmask, cv2.MORPH_OPEN, kernel)\n",
    "    # FInd contours within the video\n",
    "    contours, hierarchy = cv2.findContours(fgmask, cv2.RETR_EXTERNAL, cv2.CHAIN_APPROX_SIMPLE)\n",
    "   \n",
    "    for c in contours:\n",
    "        # Calculate perimeter of each contour\n",
    "        perimeter = cv2.arcLength(c, True)\n",
    "        if perimeter > 188:\n",
    "            # Find a fixed rectangle (without rotation)\n",
    "            x, y, w, h = cv2.boundingRect(c)\n",
    "            # Draw out the rectangle\n",
    "            cv2.rectangle(fgmask, (x, y), (x + w, y + h), (0, 255, 0), 2)\n",
    "            \n",
    "    cv2.imshow('frame', frame)\n",
    "    cv2.imshow('fgmask', fgmask)\n",
    "    k = cv2.waitKey(5) & 0xff\n",
    "    if k == 27:\n",
    "        break\n",
    "        \n",
    "cap.release()\n",
    "cv2.destroyAllWindows()"
   ],
   "id": "5084bf77cba89715",
   "outputs": [],
   "execution_count": null
  }
 ],
 "metadata": {
  "kernelspec": {
   "display_name": "Python 3",
   "language": "python",
   "name": "python3"
  },
  "language_info": {
   "codemirror_mode": {
    "name": "ipython",
    "version": 2
   },
   "file_extension": ".py",
   "mimetype": "text/x-python",
   "name": "python",
   "nbconvert_exporter": "python",
   "pygments_lexer": "ipython2",
   "version": "2.7.6"
  }
 },
 "nbformat": 4,
 "nbformat_minor": 5
}
