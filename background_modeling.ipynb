{
 "cells": [
  {
   "cell_type": "code",
   "id": "initial_id",
   "metadata": {
    "collapsed": true,
    "ExecuteTime": {
     "end_time": "2024-11-24T14:16:37.381914Z",
     "start_time": "2024-11-24T14:16:37.107283Z"
    }
   },
   "source": [
    "import cv2\n",
    "import matplotlib.pyplot as plt\n",
    "import numpy as np\n",
    "import os\n",
    "%matplotlib inline"
   ],
   "outputs": [],
   "execution_count": 1
  },
  {
   "metadata": {},
   "cell_type": "markdown",
   "source": [
    "# Background modeling\n",
    "\n",
    "## Frame difference method\n",
    "\n",
    "## Mixed Gauss model\n",
    "\n",
    "### Learning method of mixed Gauss model\n",
    "\n",
    "### Testing method of mixed Gauss model"
   ],
   "id": "67f38a9cfbbedf01"
  },
  {
   "metadata": {
    "ExecuteTime": {
     "end_time": "2024-11-24T14:32:02.711193Z",
     "start_time": "2024-11-24T14:31:05.293556Z"
    }
   },
   "cell_type": "code",
   "source": [
    "# Test video\n",
    "cap = cv2.VideoCapture('test2.mp4')\n",
    "# Morphological methods are needed\n",
    "kernel = cv2.getStructuringElement(cv2.MORPH_ELLIPSE, (3, 3))\n",
    "# Create mixed Gauss model for background modeling\n",
    "fgbg = cv2.createBackgroundSubtractorMOG2()\n",
    "\n",
    "while True:\n",
    "    ret, frame = cap.read()\n",
    "    fgmask = fgbg.apply(frame)\n",
    "    # Use open calculation of morphological methods to rid noise points\n",
    "    fgmask = cv2.morphologyEx(fgmask, cv2.MORPH_OPEN, kernel)\n",
    "    # FInd contours within the video\n",
    "    contours, hierarchy = cv2.findContours(fgmask, cv2.RETR_EXTERNAL, cv2.CHAIN_APPROX_SIMPLE)\n",
    "   \n",
    "    for c in contours:\n",
    "        # Calculate perimeter of each contour\n",
    "        perimeter = cv2.arcLength(c, True)\n",
    "        if perimeter > 188:\n",
    "            # Find a fixed rectangle (without rotation)\n",
    "            x, y, w, h = cv2.boundingRect(c)\n",
    "            # Draw out the rectangle\n",
    "            cv2.rectangle(fgmask, (x, y), (x + w, y + h), (0, 255, 0), 2)\n",
    "            \n",
    "    cv2.imshow('frame', frame)\n",
    "    cv2.imshow('fgmask', fgmask)\n",
    "    k = cv2.waitKey(5) & 0xff\n",
    "    if k == 27:\n",
    "        break\n",
    "        \n",
    "cap.release()\n",
    "cv2.destroyAllWindows()"
   ],
   "id": "5084bf77cba89715",
   "outputs": [
    {
     "ename": "error",
     "evalue": "OpenCV(4.10.0) /io/opencv/modules/imgproc/src/morph.dispatch.cpp:1163: error: (-215:Assertion failed) !_src.empty() in function 'morphologyEx'\n",
     "output_type": "error",
     "traceback": [
      "\u001B[0;31m---------------------------------------------------------------------------\u001B[0m",
      "\u001B[0;31merror\u001B[0m                                     Traceback (most recent call last)",
      "Cell \u001B[0;32mIn[8], line 12\u001B[0m\n\u001B[1;32m     10\u001B[0m fgmask \u001B[38;5;241m=\u001B[39m fgbg\u001B[38;5;241m.\u001B[39mapply(frame)\n\u001B[1;32m     11\u001B[0m \u001B[38;5;66;03m# Use open calculation of morphological methods to rid noise points\u001B[39;00m\n\u001B[0;32m---> 12\u001B[0m fgmask \u001B[38;5;241m=\u001B[39m cv2\u001B[38;5;241m.\u001B[39mmorphologyEx(fgmask, cv2\u001B[38;5;241m.\u001B[39mMORPH_OPEN, kernel)\n\u001B[1;32m     13\u001B[0m \u001B[38;5;66;03m# FInd contours within the video\u001B[39;00m\n\u001B[1;32m     14\u001B[0m contours, hierarchy \u001B[38;5;241m=\u001B[39m cv2\u001B[38;5;241m.\u001B[39mfindContours(fgmask, cv2\u001B[38;5;241m.\u001B[39mRETR_EXTERNAL, cv2\u001B[38;5;241m.\u001B[39mCHAIN_APPROX_SIMPLE)\n",
      "\u001B[0;31merror\u001B[0m: OpenCV(4.10.0) /io/opencv/modules/imgproc/src/morph.dispatch.cpp:1163: error: (-215:Assertion failed) !_src.empty() in function 'morphologyEx'\n"
     ]
    }
   ],
   "execution_count": 8
  },
  {
   "metadata": {},
   "cell_type": "code",
   "outputs": [],
   "execution_count": null,
   "source": "",
   "id": "502d2c24e41ff116"
  }
 ],
 "metadata": {
  "kernelspec": {
   "display_name": "Python 3",
   "language": "python",
   "name": "python3"
  },
  "language_info": {
   "codemirror_mode": {
    "name": "ipython",
    "version": 2
   },
   "file_extension": ".py",
   "mimetype": "text/x-python",
   "name": "python",
   "nbconvert_exporter": "python",
   "pygments_lexer": "ipython2",
   "version": "2.7.6"
  }
 },
 "nbformat": 4,
 "nbformat_minor": 5
}
